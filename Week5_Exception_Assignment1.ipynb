{
 "cells": [
  {
   "cell_type": "markdown",
   "id": "f0e65a84-3460-4693-bd17-272ad6fafd8e",
   "metadata": {},
   "source": [
    "# Week 5 Exception Handling Assignment - 1"
   ]
  },
  {
   "cell_type": "code",
   "execution_count": 1,
   "id": "d6068c01-891f-45dd-b5e0-7a686eb06471",
   "metadata": {},
   "outputs": [],
   "source": [
    "import logging\n",
    "logging.basicConfig(filename = \"W5Assign1.log\",level=logging.DEBUG)"
   ]
  },
  {
   "cell_type": "markdown",
   "id": "e21872b9-1b9a-4dfe-814c-4ae29f117db8",
   "metadata": {},
   "source": [
    "### What is an Exception in python? Write the difference between Exceptions and Syntax Errors."
   ]
  },
  {
   "cell_type": "markdown",
   "id": "1458f4e8-e3f3-4b4e-9fd3-23cf276bc3e9",
   "metadata": {},
   "source": [
    "An Exception in python is a event that distrupts the flow of program. It can be caused due to syntax error or runtime errors. When Exception occurs the program stop executing current code and exception handler comes into action."
   ]
  },
  {
   "cell_type": "markdown",
   "id": "98e307d9-df0c-4625-8752-2fc56167ed2d",
   "metadata": {},
   "source": [
    "An Exception is event that distrupts the program's excution whereas Syntax error is an error that occurs when the syntax of code is incorrect.\n",
    "\n",
    "Exception can be caused due to syntax error or runtime error or user error. Syntax Error occurs whenever there is missing punctutation, wrong use of keywords and due to violation other syntactical rules.\n",
    "\n",
    "Exceptions can be handled using try-exception block whereas Syntax Error should be resolved before compiling the code"
   ]
  },
  {
   "cell_type": "markdown",
   "id": "f94e2fda-3474-41ee-8c4e-b4fa44988188",
   "metadata": {},
   "source": [
    "### What happens when an Exception is not handled? Explain with an example."
   ]
  },
  {
   "cell_type": "markdown",
   "id": "de94026c-f1f9-4147-8542-9f3063d83923",
   "metadata": {},
   "source": [
    "When an Exception is not handled then python interpreter will throw an error and distrupts the execution of code. It will print the error and will stop executing it.\n",
    "\n",
    "for example, in code of division, if division by zero is done and this exception is not handled then python interpreter will throw error and distrupt the flow of code any furthur"
   ]
  },
  {
   "cell_type": "code",
   "execution_count": 2,
   "id": "8edf87a2-824e-4dfe-a144-a36b6ade2fb9",
   "metadata": {},
   "outputs": [
    {
     "ename": "ZeroDivisionError",
     "evalue": "division by zero",
     "output_type": "error",
     "traceback": [
      "\u001b[0;31m---------------------------------------------------------------------------\u001b[0m",
      "\u001b[0;31mZeroDivisionError\u001b[0m                         Traceback (most recent call last)",
      "Cell \u001b[0;32mIn[2], line 5\u001b[0m\n\u001b[1;32m      2\u001b[0m     \u001b[38;5;28mprint\u001b[39m(\u001b[38;5;124m\"\u001b[39m\u001b[38;5;124mresult : \u001b[39m\u001b[38;5;124m\"\u001b[39m,a\u001b[38;5;241m/\u001b[39mb)\n\u001b[1;32m      3\u001b[0m     \u001b[38;5;28mprint\u001b[39m(\u001b[38;5;124m\"\u001b[39m\u001b[38;5;124mProgram finished\u001b[39m\u001b[38;5;124m\"\u001b[39m)\n\u001b[0;32m----> 5\u001b[0m \u001b[43mdiv\u001b[49m\u001b[43m(\u001b[49m\u001b[38;5;241;43m3\u001b[39;49m\u001b[43m,\u001b[49m\u001b[38;5;241;43m0\u001b[39;49m\u001b[43m)\u001b[49m\n",
      "Cell \u001b[0;32mIn[2], line 2\u001b[0m, in \u001b[0;36mdiv\u001b[0;34m(a, b)\u001b[0m\n\u001b[1;32m      1\u001b[0m \u001b[38;5;28;01mdef\u001b[39;00m \u001b[38;5;21mdiv\u001b[39m(a,b):\n\u001b[0;32m----> 2\u001b[0m     \u001b[38;5;28mprint\u001b[39m(\u001b[38;5;124m\"\u001b[39m\u001b[38;5;124mresult : \u001b[39m\u001b[38;5;124m\"\u001b[39m,\u001b[43ma\u001b[49m\u001b[38;5;241;43m/\u001b[39;49m\u001b[43mb\u001b[49m)\n\u001b[1;32m      3\u001b[0m     \u001b[38;5;28mprint\u001b[39m(\u001b[38;5;124m\"\u001b[39m\u001b[38;5;124mProgram finished\u001b[39m\u001b[38;5;124m\"\u001b[39m)\n",
      "\u001b[0;31mZeroDivisionError\u001b[0m: division by zero"
     ]
    }
   ],
   "source": [
    "def div(a,b):\n",
    "    print(\"result : \",a/b)\n",
    "    print(\"Program finished\")\n",
    "    \n",
    "div(3,0)"
   ]
  },
  {
   "cell_type": "markdown",
   "id": "2d06ec99-7779-41ab-8a9c-8d692c8b9c5c",
   "metadata": {},
   "source": [
    "### Q3 Which python statements are used to catch and handle exceptions? Explain with example"
   ]
  },
  {
   "cell_type": "markdown",
   "id": "54458066-5b9e-40a4-91b7-48ac26fbe238",
   "metadata": {},
   "source": [
    "try, except and finally statements are used to catch and handle exceptions in python.\n",
    "\n",
    "try statement is used to run a block of code that may raise exception and distrupt the flow of code.\n",
    "\n",
    "except statement is used to handle the raised exception. If any exception is raised, then the flow of code is transferred to except block and code continues to run.\n",
    "\n",
    "finally statement is used to run block of code that will run regardless of exception"
   ]
  },
  {
   "cell_type": "code",
   "execution_count": 3,
   "id": "6eac61b1-950c-4381-a7aa-1e8616017169",
   "metadata": {},
   "outputs": [],
   "source": [
    "try:\n",
    "    lis = [3,4,5,6]\n",
    "    lis[10]\n",
    "except IndexError as e:\n",
    "    logging.error(e)\n",
    "finally:\n",
    "    logging.info(\"Program ended\")"
   ]
  },
  {
   "cell_type": "markdown",
   "id": "e6b4bbe1-7804-46f2-b8c8-0255c70bd9a5",
   "metadata": {},
   "source": [
    "### Q4 Explain with example: \n",
    "#### a) try and else\n",
    "#### b) finally\n",
    "#### c) raise"
   ]
  },
  {
   "cell_type": "markdown",
   "id": "7ac774eb-b563-415d-ab99-eb1211078e8a",
   "metadata": {},
   "source": [
    "## 1) try and else"
   ]
  },
  {
   "cell_type": "markdown",
   "id": "ea428315-0a35-4594-b2fc-7832fc71b0bc",
   "metadata": {},
   "source": [
    "try is used run to block of code that may throw exception. It is used to check code for error.\n",
    "\n",
    "else is used to run a block of code if no error is thrown"
   ]
  },
  {
   "cell_type": "code",
   "execution_count": 4,
   "id": "78b06bd2-6335-4d98-b766-b55a0c8515a4",
   "metadata": {},
   "outputs": [],
   "source": [
    "try:\n",
    "    l = [4,3,5,7]\n",
    "    l[3]\n",
    "except Exception as e: \n",
    "    logging.error(e)\n",
    "else:\n",
    "    logging.info(\"Code executed successfully\")"
   ]
  },
  {
   "cell_type": "markdown",
   "id": "74784f2c-9a49-41bd-94fa-b168d126817d",
   "metadata": {},
   "source": [
    "## 2) finally"
   ]
  },
  {
   "cell_type": "markdown",
   "id": "e9090113-eed1-413d-8a9e-dc68a2656550",
   "metadata": {},
   "source": [
    "finally is used to run a block of code that will run regardless of whether an exception is raised or not"
   ]
  },
  {
   "cell_type": "code",
   "execution_count": 5,
   "id": "d7395ac4-acfa-44b2-b380-cd562fd91a6a",
   "metadata": {},
   "outputs": [],
   "source": [
    "try:\n",
    "    a = 5\n",
    "    b = 0\n",
    "    a/b\n",
    "except ZeroDivisionError as e:\n",
    "    logging.error(\"explaining finally block and error : {}\".format(e))\n",
    "finally:\n",
    "    logging.info(\"Code executed with or without error\")"
   ]
  },
  {
   "cell_type": "markdown",
   "id": "ee393656-72a2-47ce-8e11-a835de06e144",
   "metadata": {},
   "source": [
    "## 3) raise"
   ]
  },
  {
   "cell_type": "markdown",
   "id": "fba62cc3-052e-40a4-8267-5ff8f75a5239",
   "metadata": {},
   "source": [
    "raise keyword is used to raise an exception. It takes an exception object as its  argument and raise the required exception. The exception object can be built-in exception or custom exception"
   ]
  },
  {
   "cell_type": "code",
   "execution_count": 6,
   "id": "6e1a5cce-a0ac-4f6d-b778-da0492b45c82",
   "metadata": {},
   "outputs": [
    {
     "name": "stdout",
     "output_type": "stream",
     "text": [
      "n must be non-negative\n"
     ]
    }
   ],
   "source": [
    "def factorial(n):\n",
    "    if n < 0:\n",
    "        raise ValueError(\"n must be non-negative\")\n",
    "    if n == 0:\n",
    "        return 1\n",
    "    return n * factorial(n - 1)\n",
    "\n",
    "try:\n",
    "    print(factorial(-1))\n",
    "except ValueError:\n",
    "    print(\"n must be non-negative\")"
   ]
  },
  {
   "cell_type": "markdown",
   "id": "cb506e61-6e82-4733-92de-7ff0ed989ce7",
   "metadata": {},
   "source": [
    "### What are custom exceptions in python? Why do we need custom exceptions? Explain with an example."
   ]
  },
  {
   "cell_type": "markdown",
   "id": "16715d8e-9cf8-49d7-b56c-eb5608fa16cc",
   "metadata": {},
   "source": [
    "Custom Exceptions are exceptions defined by programmer to handle specific errors rising in the code.\n",
    "\n",
    "We need custom exceptions to handle some specific exceptions or errors that may rise in code, which are not defined in general built-in Exceptions category."
   ]
  },
  {
   "cell_type": "code",
   "execution_count": 7,
   "id": "b4c33037-abb1-43d4-a6ff-d6f93bc7f1c3",
   "metadata": {},
   "outputs": [],
   "source": [
    "class validateage(Exception):\n",
    "    def __init__(self,msg):\n",
    "        self.msg = msg\n",
    "        \n",
    "def validate(age):\n",
    "    if age < 0 or age > 130:\n",
    "        raise validateage(\"Invalid age\")\n",
    "try:\n",
    "    age = -1\n",
    "    validate(age)\n",
    "except validateage as e:\n",
    "    logging.error(e)"
   ]
  },
  {
   "cell_type": "markdown",
   "id": "e4931231-63d8-4dfd-a173-6657de825758",
   "metadata": {},
   "source": [
    "### Create a custom exception class. Use this class to handle an exception"
   ]
  },
  {
   "cell_type": "code",
   "execution_count": 8,
   "id": "27c2a90b-afcd-4163-aca1-c7a98ade1330",
   "metadata": {},
   "outputs": [],
   "source": [
    "class custom_exception(Exception):\n",
    "    def __init__(self,msg):\n",
    "        self.msg = msg\n",
    "        \n",
    "def check_num(num):\n",
    "    if len(str(num)) != 10:\n",
    "        raise custom_exception(\"Invalid number\")\n",
    "\n",
    "try:\n",
    "    number = 783431149814\n",
    "    check_num(number)\n",
    "except custom_exception as e:\n",
    "    logging.error(e)\n"
   ]
  }
 ],
 "metadata": {
  "kernelspec": {
   "display_name": "Python 3 (ipykernel)",
   "language": "python",
   "name": "python3"
  },
  "language_info": {
   "codemirror_mode": {
    "name": "ipython",
    "version": 3
   },
   "file_extension": ".py",
   "mimetype": "text/x-python",
   "name": "python",
   "nbconvert_exporter": "python",
   "pygments_lexer": "ipython3",
   "version": "3.10.8"
  }
 },
 "nbformat": 4,
 "nbformat_minor": 5
}
