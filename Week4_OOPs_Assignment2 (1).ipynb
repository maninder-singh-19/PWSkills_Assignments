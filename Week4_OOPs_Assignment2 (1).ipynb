{
 "cells": [
  {
   "cell_type": "markdown",
   "id": "34f46e07-7bb0-43f5-83db-1e9eb51a6e2b",
   "metadata": {},
   "source": [
    "# Week 4 OOPs Assignment 2"
   ]
  },
  {
   "cell_type": "markdown",
   "id": "102887b8-fe35-4f0e-96e6-f13b6e60cded",
   "metadata": {},
   "source": [
    "### Q1. What is Abstraction in OOPs? Explain with an example."
   ]
  },
  {
   "cell_type": "markdown",
   "id": "b8761d28-fb3a-4147-9b77-e9ff43615aa9",
   "metadata": {},
   "source": [
    "Abstraction is hiding of data and unnecessary details from the user and revealing only essential information. "
   ]
  },
  {
   "cell_type": "code",
   "execution_count": 1,
   "id": "394acf86-1758-4819-9140-f6fd9324409c",
   "metadata": {},
   "outputs": [
    {
     "name": "stdout",
     "output_type": "stream",
     "text": [
      "color : black\n",
      "seats : 2\n",
      "\n",
      "color : white\n",
      "seats : 4\n"
     ]
    }
   ],
   "source": [
    "import abc\n",
    "class car:\n",
    "    \n",
    "    @abc.abstractmethod\n",
    "    def color(self):\n",
    "        pass\n",
    "    \n",
    "    @abc.abstractmethod\n",
    "    def seat_cap(self):\n",
    "        pass\n",
    "    \n",
    "class mustang(car):\n",
    "    def color(self):\n",
    "        print(\"color : black\")\n",
    "    def seat_cap(self):\n",
    "        print(\"seats : 2\")\n",
    "\n",
    "class audi(car):\n",
    "    def color(self):\n",
    "        print(\"color : white\")\n",
    "    def seat_cap(self):\n",
    "        print(\"seats : 4\")\n",
    "        \n",
    "m = mustang()\n",
    "a = audi()\n",
    "\n",
    "m.color()\n",
    "m.seat_cap()\n",
    "print()\n",
    "a.color()\n",
    "a.seat_cap()"
   ]
  },
  {
   "cell_type": "markdown",
   "id": "c68d63f9-6ab1-4e59-a2b6-15eca22def17",
   "metadata": {},
   "source": [
    "### Q2. Differentiate between Abstraction and Encapsulation. Explain with an example."
   ]
  },
  {
   "cell_type": "markdown",
   "id": "3cc90532-6e63-4549-9fcd-3f182e1d1d51",
   "metadata": {},
   "source": [
    "Abstraction is process of hiding unncessary details about the object and show only relevant information to user"
   ]
  },
  {
   "cell_type": "markdown",
   "id": "de3d69e8-3b08-4094-b168-fed0f3b4f489",
   "metadata": {},
   "source": [
    "Encapsulation is binding of data and methods into one unit to manage and access data. It ensure that data is accessed and modified in safe way through proper channels"
   ]
  },
  {
   "cell_type": "code",
   "execution_count": 2,
   "id": "cdc28637-f041-48cc-9c7f-52c9392450e3",
   "metadata": {},
   "outputs": [],
   "source": [
    "import abc\n",
    "\n",
    "class car:\n",
    "    @abc.abstractmethod   # abstraction\n",
    "    def show_info(self):\n",
    "        pass\n",
    "    @abc.abstractmethod\n",
    "    def change_info(self):\n",
    "        pass\n",
    "    \n",
    "    \n",
    "        \n",
    "class luxury(car):\n",
    "    def __init__(self,brand, color, s_cap):\n",
    "        self.__brand = brand\n",
    "        self.__color = color\n",
    "        self.__s_cap = s_cap\n",
    "        \n",
    "    def show_info(self):\n",
    "        return self.__brand, self.__color, self.__s_cap   # encapsulation\n",
    "\n",
    "    def change_info(self,brand, color, s_cap):\n",
    "        self.__brand = brand\n",
    "        self.__color = color\n",
    "        self.__s_cap = s_cap\n",
    "        \n",
    "\n",
    "m = luxury(\"mustang\",\"black\",2)"
   ]
  },
  {
   "cell_type": "code",
   "execution_count": 3,
   "id": "0ea5e3d9-d46f-4626-94b8-8a81b6fb7f61",
   "metadata": {},
   "outputs": [
    {
     "data": {
      "text/plain": [
       "('mustang', 'black', 2)"
      ]
     },
     "execution_count": 3,
     "metadata": {},
     "output_type": "execute_result"
    }
   ],
   "source": [
    "m.show_info()"
   ]
  },
  {
   "cell_type": "code",
   "execution_count": 4,
   "id": "05fbdb03-9b82-4098-8c39-a5ff1f8934d9",
   "metadata": {},
   "outputs": [],
   "source": [
    "m.change_info(\"Audi\",\"White\",4)"
   ]
  },
  {
   "cell_type": "code",
   "execution_count": 5,
   "id": "541736a7-984d-4407-8a2e-c44d1a1fdf46",
   "metadata": {},
   "outputs": [
    {
     "data": {
      "text/plain": [
       "('Audi', 'White', 4)"
      ]
     },
     "execution_count": 5,
     "metadata": {},
     "output_type": "execute_result"
    }
   ],
   "source": [
    "m.show_info()"
   ]
  },
  {
   "cell_type": "markdown",
   "id": "5a53eb23-57e6-4939-a68b-36ebb809d31a",
   "metadata": {},
   "source": [
    "### Q3. What is abc module in python? Why is it used?"
   ]
  },
  {
   "cell_type": "markdown",
   "id": "3c604fa5-7642-4ba9-bfdd-9def8d6147c3",
   "metadata": {},
   "source": [
    "The full form of abc module is abstract base class. abc module is used for creating abstract classes, methods in python"
   ]
  },
  {
   "cell_type": "markdown",
   "id": "e71623d6-fa74-464e-b130-3075e3549c27",
   "metadata": {},
   "source": [
    "### Q4. How can we achieve data abstraction?"
   ]
  },
  {
   "cell_type": "markdown",
   "id": "0ec9bfc9-2ef4-4202-bd9e-3c4989732b43",
   "metadata": {},
   "source": [
    "We can achieve data abstraction by using abstract classes and abstract data types. An abstract class cannot be instantiated but it can only be inherited from. It is considered to be blueprint to other classes."
   ]
  },
  {
   "cell_type": "markdown",
   "id": "809d19b9-387b-4cc5-b5e5-786ef609d2bd",
   "metadata": {},
   "source": [
    "### Q5. Can we create an instance of an abstract class? Explain your answer."
   ]
  },
  {
   "cell_type": "markdown",
   "id": "cbcee9b0-5c43-4b09-9c86-8116ed83b957",
   "metadata": {},
   "source": [
    "No, we cannot create instance of an abstract class. An abstract class is just blueprint of other classes. It contains essential features of object but they are not defined. It is upto subclass to implement the feature and define them.\n",
    "The abstract class is incomplete in itself and thus cannot be instantiated.\n",
    "If we do try to create instance of abstract class, it will throw error."
   ]
  },
  {
   "cell_type": "code",
   "execution_count": 6,
   "id": "7f121745-2ce6-4786-bc82-1d5c2106348d",
   "metadata": {},
   "outputs": [
    {
     "ename": "TypeError",
     "evalue": "Can't instantiate abstract class test with abstract method info",
     "output_type": "error",
     "traceback": [
      "\u001b[0;31m---------------------------------------------------------------------------\u001b[0m",
      "\u001b[0;31mTypeError\u001b[0m                                 Traceback (most recent call last)",
      "Cell \u001b[0;32mIn[6], line 7\u001b[0m\n\u001b[1;32m      3\u001b[0m     \u001b[38;5;129m@abstractmethod\u001b[39m\n\u001b[1;32m      4\u001b[0m     \u001b[38;5;28;01mdef\u001b[39;00m \u001b[38;5;21minfo\u001b[39m(\u001b[38;5;28mself\u001b[39m):\n\u001b[1;32m      5\u001b[0m         \u001b[38;5;28mprint\u001b[39m(\u001b[38;5;124m\"\u001b[39m\u001b[38;5;124mThis is abstract method\u001b[39m\u001b[38;5;124m\"\u001b[39m)\n\u001b[0;32m----> 7\u001b[0m t \u001b[38;5;241m=\u001b[39m \u001b[43mtest\u001b[49m\u001b[43m(\u001b[49m\u001b[43m)\u001b[49m\n",
      "\u001b[0;31mTypeError\u001b[0m: Can't instantiate abstract class test with abstract method info"
     ]
    }
   ],
   "source": [
    "from abc import ABC, abstractmethod\n",
    "class test(ABC):\n",
    "    @abstractmethod\n",
    "    def info(self):\n",
    "        print(\"This is abstract method\")\n",
    "\n",
    "t = test()"
   ]
  },
  {
   "cell_type": "code",
   "execution_count": null,
   "id": "f1a69521-5bb7-49fb-bc74-c7eb7b2e06ee",
   "metadata": {},
   "outputs": [],
   "source": []
  }
 ],
 "metadata": {
  "kernelspec": {
   "display_name": "Python 3 (ipykernel)",
   "language": "python",
   "name": "python3"
  },
  "language_info": {
   "codemirror_mode": {
    "name": "ipython",
    "version": 3
   },
   "file_extension": ".py",
   "mimetype": "text/x-python",
   "name": "python",
   "nbconvert_exporter": "python",
   "pygments_lexer": "ipython3",
   "version": "3.10.8"
  }
 },
 "nbformat": 4,
 "nbformat_minor": 5
}
