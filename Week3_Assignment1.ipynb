{
 "cells": [
  {
   "cell_type": "markdown",
   "id": "d2826544-2ce4-44fe-8b7c-a29f5b44464e",
   "metadata": {},
   "source": [
    "# Week 3 Python Assignment 1"
   ]
  },
  {
   "cell_type": "raw",
   "id": "207632dc-cb4f-4f38-998d-4a6678d37f3c",
   "metadata": {},
   "source": [
    "Q1. Which keyword is used to create a function? Create a function to return a list of odd numbers in the\n",
    "range of 1 to 25."
   ]
  },
  {
   "cell_type": "code",
   "execution_count": 3,
   "id": "6d64564b-5d41-4fe9-81fb-489fe38e1c6c",
   "metadata": {},
   "outputs": [
    {
     "data": {
      "text/plain": [
       "[1, 3, 5, 7, 9, 11, 13, 15, 17, 19, 21, 23]"
      ]
     },
     "execution_count": 3,
     "metadata": {},
     "output_type": "execute_result"
    }
   ],
   "source": [
    "'''\n",
    "\"def\" keyword is used to create a function in python.'''\n",
    "\n",
    "def odd_num():\n",
    "    odd_l = []\n",
    "    for i in range(1,25):\n",
    "        if i%2!=0:\n",
    "            odd_l.append(i)\n",
    "    return odd_l\n",
    "odd_num()"
   ]
  },
  {
   "cell_type": "raw",
   "id": "d94804d6-9bbb-42c2-a024-554787fc7c41",
   "metadata": {},
   "source": [
    "Q2. Why *args and **kwargs is used in some functions? Create a function each for *args and **kwargs\n",
    "to demonstrate their use."
   ]
  },
  {
   "cell_type": "code",
   "execution_count": 8,
   "id": "fc977915-b770-4109-bfc1-7e72e45eb0a8",
   "metadata": {},
   "outputs": [
    {
     "name": "stdout",
     "output_type": "stream",
     "text": [
      "(3, 4, 5, 7, 8, 3, 5)\n",
      "{'a': [3, 4, 5], 'b': 'Assignment', 'c': 'Done'}\n"
     ]
    }
   ],
   "source": [
    "'''\n",
    "*args keyword is used to pass unlimited number of arguments in a function. Here args is not the keyword rather * is the keyword that does the work of passing unlimited arguments.\n",
    "**kwargs keyword is used to pass unlimited keyword argument forming a dictionary.Here kwargs is not the keyword rather ** is the keyword that does the work of passing unlimited arguments.\n",
    "'''\n",
    "def test1(*args):\n",
    "    print(args)\n",
    "\n",
    "def test2(**kwargs):\n",
    "    print(kwargs)\n",
    "\n",
    "test1(3,4,5,7,8,3,5)\n",
    "test2(a=[3,4,5],b=\"Assignment\",c=\"Done\")"
   ]
  },
  {
   "cell_type": "raw",
   "id": "ab658f11-8d16-4021-9d79-5f2e0ce11a93",
   "metadata": {},
   "source": [
    "Q3. What is an iterator in python? Name the method used to initialise the iterator object and the method\n",
    "used for iteration. Use these methods to print the first five elements of the given list [2, 4, 6, 8, 10, 12, 14,\n",
    "16, 18, 20]."
   ]
  },
  {
   "cell_type": "code",
   "execution_count": 11,
   "id": "c5d39abc-15b7-429f-b1f9-3997a50bb87f",
   "metadata": {},
   "outputs": [
    {
     "name": "stdout",
     "output_type": "stream",
     "text": [
      "2\n",
      "4\n",
      "6\n",
      "8\n",
      "10\n"
     ]
    }
   ],
   "source": [
    "'''\n",
    "Iterator is method used to iterate over iterable objects like string, lists, tuples\n",
    "The method used to initialise iterator object is  iter()\n",
    "The method used to for iteration is next()'''\n",
    "\n",
    "l = [2, 4, 6, 8, 10, 12, 14,16, 18, 20]\n",
    "l = iter(l)\n",
    "for i in range(5):\n",
    "    print(next(l))"
   ]
  },
  {
   "cell_type": "markdown",
   "id": "7800b535-52f3-431d-895e-d0d0e11c0fb0",
   "metadata": {},
   "source": [
    "Q4. What is a generator function in python? Why yield keyword is used? Give an example of a generator\n",
    "function."
   ]
  },
  {
   "cell_type": "code",
   "execution_count": 19,
   "id": "d1926dc6-6619-460c-a03f-6ece1230ea14",
   "metadata": {},
   "outputs": [
    {
     "name": "stdout",
     "output_type": "stream",
     "text": [
      "0\n",
      "1\n",
      "1\n",
      "2\n",
      "3\n",
      "5\n",
      "8\n",
      "13\n",
      "21\n",
      "34\n",
      "<class 'generator'>\n"
     ]
    }
   ],
   "source": [
    "## Generator function in python is special type of function that acts as an iterator. It does not return a single value. Instead it return a sequence of values.\n",
    "## It is created using yield keyword. Yield keyword acts as return but instead of returning value by ending function, it suspends execution of functions and returns the value\n",
    "\n",
    "def fib(n):\n",
    "    a,b=0,1\n",
    "    for i in range(n):\n",
    "        yield a\n",
    "        a,b = b,a+b\n",
    "\n",
    "a= fib(10)\n",
    "for i in a:\n",
    "    print(i)\n",
    "    \n",
    "print(type(a))"
   ]
  },
  {
   "cell_type": "raw",
   "id": "3bf9edf4-3a51-4093-99e2-354fe151deb5",
   "metadata": {},
   "source": [
    "Q5. Create a generator function for prime numbers less than 1000. Use the next() method to print the\n",
    "first 20 prime numbers."
   ]
  },
  {
   "cell_type": "code",
   "execution_count": 10,
   "id": "4b507f6c-1068-45d8-8a32-417b5974b6ba",
   "metadata": {},
   "outputs": [
    {
     "name": "stdout",
     "output_type": "stream",
     "text": [
      "2,3,5,7,11,13,17,19,23,29,31,37,41,43,47,53,59,61,67,71,"
     ]
    }
   ],
   "source": [
    "def primes(n):\n",
    "    for i in range(2,n):\n",
    "        for j in range(2,int(i/2)+1):\n",
    "            if i%j==0:\n",
    "                break\n",
    "        else:\n",
    "            yield i;\n",
    "            \n",
    "p = primes(1000)\n",
    "\n",
    "for i in range(20):\n",
    "    print(next(p),end = \",\")"
   ]
  },
  {
   "cell_type": "raw",
   "id": "5ae6d86b-f5a6-4260-b017-cdf18a40ab50",
   "metadata": {},
   "source": [
    "Q6. Write a python program to print the first 10 Fibonacci numbers using a while loop."
   ]
  },
  {
   "cell_type": "code",
   "execution_count": 12,
   "id": "b35b9158-0f07-491c-8237-08018672e4fc",
   "metadata": {},
   "outputs": [
    {
     "name": "stdout",
     "output_type": "stream",
     "text": [
      "0\n",
      "1\n",
      "1\n",
      "2\n",
      "3\n",
      "5\n",
      "8\n",
      "13\n",
      "21\n",
      "34\n"
     ]
    }
   ],
   "source": [
    "a,b=0,1\n",
    "limit=0\n",
    "while limit<10:\n",
    "    print(a)\n",
    "    a,b=b,a+b\n",
    "    limit+=1\n",
    "    "
   ]
  },
  {
   "cell_type": "raw",
   "id": "837a2201-e242-457e-b58d-5d357502070a",
   "metadata": {},
   "source": [
    "Q7. Write a List Comprehension to iterate through the given string: ‘pwskills’.\n",
    "Expected output: ['p', 'w', 's', 'k', 'i', 'l', 'l', 's']"
   ]
  },
  {
   "cell_type": "code",
   "execution_count": 13,
   "id": "c513985c-6b9c-4e77-9194-3a92c07d1013",
   "metadata": {},
   "outputs": [
    {
     "data": {
      "text/plain": [
       "['p', 'w', 's', 'k', 'i', 'l', 'l', 's']"
      ]
     },
     "execution_count": 13,
     "metadata": {},
     "output_type": "execute_result"
    }
   ],
   "source": [
    "l = [i for i in \"pwskills\"]\n",
    "l"
   ]
  },
  {
   "cell_type": "raw",
   "id": "19127d86-db5d-49cc-9503-578d7c4d0b8f",
   "metadata": {},
   "source": [
    "Q8. Write a python program to check whether a given number is Palindrome or not using a while loop."
   ]
  },
  {
   "cell_type": "code",
   "execution_count": 6,
   "id": "1895b237-7a1e-4859-9f45-0c52e8c40715",
   "metadata": {},
   "outputs": [
    {
     "name": "stdin",
     "output_type": "stream",
     "text": [
      "Enter a number 1234321\n"
     ]
    },
    {
     "name": "stdout",
     "output_type": "stream",
     "text": [
      "1234321  is palindrome\n"
     ]
    }
   ],
   "source": [
    "a = input(\"Enter a number\")\n",
    "\n",
    "\n",
    "while True:\n",
    "    if a==a[::-1]:\n",
    "        print(a,\" is palindrome\")\n",
    "        break\n",
    "    else:\n",
    "        print(a,\" is not palindrome\")\n",
    "        break\n"
   ]
  },
  {
   "cell_type": "raw",
   "id": "0a970dc8-428a-48f1-90d5-f01028a52360",
   "metadata": {
    "tags": []
   },
   "source": [
    "Q9. Write a code to print odd numbers from 1 to 100 using list comprehension."
   ]
  },
  {
   "cell_type": "code",
   "execution_count": 9,
   "id": "b2387282-b3c1-4c6d-a871-ad8ba444b1ad",
   "metadata": {},
   "outputs": [
    {
     "name": "stdout",
     "output_type": "stream",
     "text": [
      "[1, 3, 5, 7, 9, 11, 13, 15, 17, 19, 21, 23, 25, 27, 29, 31, 33, 35, 37, 39, 41, 43, 45, 47, 49, 51, 53, 55, 57, 59, 61, 63, 65, 67, 69, 71, 73, 75, 77, 79, 81, 83, 85, 87, 89, 91, 93, 95, 97, 99]\n"
     ]
    }
   ],
   "source": [
    "l = [i for i in range(100)]\n",
    "odds = list(filter(lambda x:x%2!=0,l))\n",
    "print(odds)"
   ]
  },
  {
   "cell_type": "code",
   "execution_count": null,
   "id": "82284119-4717-44ab-82dd-f80abfc5aa5b",
   "metadata": {},
   "outputs": [],
   "source": []
  }
 ],
 "metadata": {
  "kernelspec": {
   "display_name": "Python 3 (ipykernel)",
   "language": "python",
   "name": "python3"
  },
  "language_info": {
   "codemirror_mode": {
    "name": "ipython",
    "version": 3
   },
   "file_extension": ".py",
   "mimetype": "text/x-python",
   "name": "python",
   "nbconvert_exporter": "python",
   "pygments_lexer": "ipython3",
   "version": "3.10.8"
  }
 },
 "nbformat": 4,
 "nbformat_minor": 5
}
