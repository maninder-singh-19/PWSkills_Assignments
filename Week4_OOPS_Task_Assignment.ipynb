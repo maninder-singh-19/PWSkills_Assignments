{
 "cells": [
  {
   "cell_type": "markdown",
   "id": "4f5a96f9-d9b3-4c22-b0f3-b2d5cf033665",
   "metadata": {},
   "source": [
    "# Week4_OOPS_Task_Assignment"
   ]
  },
  {
   "cell_type": "raw",
   "id": "15a48c5f-46cf-4000-ac46-8e77796e545a",
   "metadata": {},
   "source": [
    "Q1, Create a vehicle class with an init method having instance variables as name_of_vehicle, max_speed\n",
    "and average_of_vehicle."
   ]
  },
  {
   "cell_type": "code",
   "execution_count": 2,
   "id": "c181a955-1645-4559-b1e2-103768b19fa1",
   "metadata": {},
   "outputs": [],
   "source": [
    "class vehicle:\n",
    "    def __init__(self, name_of_vehicle, max_speed, average_of_vehicle):\n",
    "        self.name_of_vehicle = name_of_vehicle\n",
    "        self.max_speed = max_speed\n",
    "        self.average_of_vehicle = average_of_vehicle"
   ]
  },
  {
   "cell_type": "raw",
   "id": "f19f5109-cafd-48c1-95ee-3a97553915fa",
   "metadata": {},
   "source": [
    "Q2. Create a child class car from the vehicle class created in Que 1, which will inherit the vehicle class.\n",
    "Create a method named seating_capacity which takes capacity as an argument and returns the name of\n",
    "the vehicle and its seating capacity."
   ]
  },
  {
   "cell_type": "code",
   "execution_count": 13,
   "id": "e6ee2587-5066-4a33-9a19-5c456b332065",
   "metadata": {},
   "outputs": [],
   "source": [
    "class car(vehicle):\n",
    "    def seating_capacity(self,capacity):\n",
    "        self.capacity = capacity\n",
    "        return f\"Car Name : {self.name_of_vehicle} , Capacity : {self.capacity}\""
   ]
  },
  {
   "cell_type": "code",
   "execution_count": 14,
   "id": "1c1f4d9d-29b8-4efc-bb0c-2687f40816a1",
   "metadata": {},
   "outputs": [
    {
     "data": {
      "text/plain": [
       "'Car Name : Mustang , Capacity : 2'"
      ]
     },
     "execution_count": 14,
     "metadata": {},
     "output_type": "execute_result"
    }
   ],
   "source": [
    "c=car(\"Mustang\",300,20)\n",
    "c.seating_capacity(2)"
   ]
  },
  {
   "cell_type": "raw",
   "id": "43596f94-8b41-4dd6-80b2-cfff5b1d6ec3",
   "metadata": {},
   "source": [
    "Q3. What is multiple inheritance? Write a python code to demonstrate multiple inheritance."
   ]
  },
  {
   "cell_type": "raw",
   "id": "a8b41db2-2d0d-4171-8fad-d937a3a83a45",
   "metadata": {},
   "source": [
    "Multiple Inheritance is the inheritance in which multiple classes are inherited into one class. All their methods and variable are passed into one child class."
   ]
  },
  {
   "cell_type": "code",
   "execution_count": 18,
   "id": "670c5e74-9cc7-4708-9f66-74dfdf573462",
   "metadata": {},
   "outputs": [],
   "source": [
    "class Parent1:\n",
    "    def detail1(self):\n",
    "        print(\"This is Class Parent1\")\n",
    "        \n",
    "class Parent2:\n",
    "    def detail2(self):\n",
    "        print(\"This is Class Parent2\")\n",
    "        \n",
    "class child(Parent1, Parent2):\n",
    "    pass"
   ]
  },
  {
   "cell_type": "code",
   "execution_count": 19,
   "id": "c407ffc8-6c06-4f9d-8820-017332881592",
   "metadata": {},
   "outputs": [
    {
     "name": "stdout",
     "output_type": "stream",
     "text": [
      "This is Class Parent1\n"
     ]
    }
   ],
   "source": [
    "ch = child()\n",
    "ch.detail1()"
   ]
  },
  {
   "cell_type": "code",
   "execution_count": 20,
   "id": "e3a19cde-cf45-4e2f-9f2c-bfa9ae32fffa",
   "metadata": {},
   "outputs": [
    {
     "name": "stdout",
     "output_type": "stream",
     "text": [
      "This is Class Parent2\n"
     ]
    }
   ],
   "source": [
    "ch.detail2()"
   ]
  },
  {
   "cell_type": "raw",
   "id": "231e2b90-9a6e-4e0f-bbb0-1d286c7b32a8",
   "metadata": {},
   "source": [
    "Q4. What are getter and setter in python? Create a class and create a getter and a setter method in this class."
   ]
  },
  {
   "cell_type": "raw",
   "id": "152bc3b9-f0a0-48fc-8003-0d9f1a0a278e",
   "metadata": {},
   "source": [
    "Getter is used to get values or basically return and print values of private variable of  methods of class\n",
    "Setter is used to set values of variables of private variable of class.\n",
    "These are used to ensure data encapsulation"
   ]
  },
  {
   "cell_type": "code",
   "execution_count": 21,
   "id": "cc1be19c-89e8-44e4-b03f-1cef47b238a6",
   "metadata": {},
   "outputs": [],
   "source": [
    "class A:\n",
    "    def __init__(self,name, roll_no):\n",
    "        self.__name = name\n",
    "        self.__roll_no = roll_no\n",
    "    \n",
    "    def set_details(self,name,roll_no):\n",
    "        self.__name = name\n",
    "        self.__roll_no = roll_no\n",
    "    def get_details(self):\n",
    "        return self.__name,self.__roll_no\n"
   ]
  },
  {
   "cell_type": "code",
   "execution_count": 22,
   "id": "e6c68f05-0655-4c6f-8597-6a696231a516",
   "metadata": {},
   "outputs": [],
   "source": [
    "objA = A(\"Maninder Singh\",27)"
   ]
  },
  {
   "cell_type": "code",
   "execution_count": 24,
   "id": "42d8122a-7082-4842-866a-270f56d24a8d",
   "metadata": {},
   "outputs": [
    {
     "data": {
      "text/plain": [
       "('Maninder Singh', 27)"
      ]
     },
     "execution_count": 24,
     "metadata": {},
     "output_type": "execute_result"
    }
   ],
   "source": [
    "objA.get_details()"
   ]
  },
  {
   "cell_type": "code",
   "execution_count": 25,
   "id": "448e7edb-132f-473d-ad93-964e75552a8d",
   "metadata": {},
   "outputs": [],
   "source": [
    "objA.set_details(\"Manni\",24)"
   ]
  },
  {
   "cell_type": "code",
   "execution_count": 26,
   "id": "7f9da4e3-5e73-4b6c-9849-f6af1f5244aa",
   "metadata": {},
   "outputs": [
    {
     "data": {
      "text/plain": [
       "('Manni', 24)"
      ]
     },
     "execution_count": 26,
     "metadata": {},
     "output_type": "execute_result"
    }
   ],
   "source": [
    "objA.get_details()"
   ]
  },
  {
   "cell_type": "raw",
   "id": "95a23903-8aee-496f-90d3-5c7b6c3535b3",
   "metadata": {},
   "source": [
    "Q5.What is method overriding in python? Write a python code to demonstrate method overriding."
   ]
  },
  {
   "cell_type": "raw",
   "id": "d03700a4-98dc-49e7-af2f-a9ae555834a0",
   "metadata": {},
   "source": [
    "Method Overriding allows us to redefine a method in child class or derived class which is previously defined in parent class. Method Overriding is performed on function that have same name, parameters and return type"
   ]
  },
  {
   "cell_type": "code",
   "execution_count": 27,
   "id": "f039b3c4-ed88-4f0c-9d3a-72bac4dc6bbc",
   "metadata": {},
   "outputs": [],
   "source": [
    "class Parent:\n",
    "    def show(self):\n",
    "        return \"Class Parent\"\n",
    "\n",
    "class child(Parent):\n",
    "    def show(self):\n",
    "        return \"Class Child\"\n",
    "    "
   ]
  },
  {
   "cell_type": "code",
   "execution_count": 28,
   "id": "9dddf60f-b9bf-4cb5-b25e-0366719fd748",
   "metadata": {},
   "outputs": [],
   "source": [
    "obj = child()"
   ]
  },
  {
   "cell_type": "code",
   "execution_count": 29,
   "id": "4c2e7db5-9867-41ed-a6ba-2b02ea0c01ea",
   "metadata": {},
   "outputs": [
    {
     "data": {
      "text/plain": [
       "'Class Child'"
      ]
     },
     "execution_count": 29,
     "metadata": {},
     "output_type": "execute_result"
    }
   ],
   "source": [
    "obj.show()"
   ]
  },
  {
   "cell_type": "code",
   "execution_count": null,
   "id": "6afd5c8f-e9f0-4d8b-8dcd-6198ff0455ea",
   "metadata": {},
   "outputs": [],
   "source": []
  }
 ],
 "metadata": {
  "kernelspec": {
   "display_name": "Python 3 (ipykernel)",
   "language": "python",
   "name": "python3"
  },
  "language_info": {
   "codemirror_mode": {
    "name": "ipython",
    "version": 3
   },
   "file_extension": ".py",
   "mimetype": "text/x-python",
   "name": "python",
   "nbconvert_exporter": "python",
   "pygments_lexer": "ipython3",
   "version": "3.10.8"
  }
 },
 "nbformat": 4,
 "nbformat_minor": 5
}
