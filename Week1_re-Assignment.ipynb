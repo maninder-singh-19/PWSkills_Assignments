{
 "cells": [
  {
   "cell_type": "markdown",
   "id": "5c7a46f6-413c-4504-996f-5f097a1b2c93",
   "metadata": {},
   "source": [
    "# Data Science 2.0 Assignment 1"
   ]
  },
  {
   "cell_type": "raw",
   "id": "fa9e5049-8478-4471-941c-1bc9dc93b461",
   "metadata": {},
   "source": [
    "Q1. Create one variable containing following type of data:\n",
    "(i) string\n",
    "(ii) list\n",
    "(iii) float\n",
    "(iv) tuple\n",
    "\n"
   ]
  },
  {
   "cell_type": "code",
   "execution_count": 3,
   "id": "871fb294-4406-44fe-b65d-43043016b22b",
   "metadata": {},
   "outputs": [
    {
     "data": {
      "text/plain": [
       "['sample string', [4, 6], 6.6, (2, 3)]"
      ]
     },
     "execution_count": 3,
     "metadata": {},
     "output_type": "execute_result"
    }
   ],
   "source": [
    "a = [\"sample string\",[4,6],6.6,(2,3)]\n",
    "a"
   ]
  },
  {
   "cell_type": "raw",
   "id": "52b2c73b-0cc4-48ea-9806-22c637dceb20",
   "metadata": {},
   "source": [
    "Q2. Given are some following variables containing data:\n",
    "(i) var1 = ‘ ‘\n",
    "(ii) var2 = ‘[ DS , ML , Python]’\n",
    "(iii) var3 = [ ‘DS’ , ’ML’ , ‘Python’ ]\n",
    "(iv) var4 = 1.\n",
    "What will be the data type of the above given variable."
   ]
  },
  {
   "cell_type": "code",
   "execution_count": 2,
   "id": "715ba89f-899d-492a-aa84-e24514ecc034",
   "metadata": {},
   "outputs": [],
   "source": [
    "#(i) var1 = String\n",
    "\n",
    "#(ii) var2 = String\n",
    "\n",
    "#(iii) var3 = list\n",
    "\n",
    "#(iv) var4 = Integer (int)"
   ]
  },
  {
   "cell_type": "raw",
   "id": "2c0ab2bb-e02c-43d3-bd99-9fe5ad21e5db",
   "metadata": {},
   "source": [
    "Q3. Explain the use of the following operators using an example:\n",
    "(i) /\n",
    "(ii) %\n",
    "(iii) //\n",
    "(iv) **"
   ]
  },
  {
   "cell_type": "raw",
   "id": "86a81a8c-8c19-405c-885d-828cacdf86a1",
   "metadata": {},
   "source": [
    "     \n",
    "/ : This operator is used for division of two integers.\n",
    "% : This is used for modulo operation. It returns the remainder after division of two numbers\n",
    "// : This is used for floor division. It return the quotient after division. The quotient returned in of type int and not      the float\n",
    "** : This operator is used for the operation of power. for example 2**3 = 8."
   ]
  },
  {
   "cell_type": "code",
   "execution_count": 3,
   "id": "dcb26d51-45fc-42c7-b2c0-374bb9e80db2",
   "metadata": {},
   "outputs": [
    {
     "name": "stdout",
     "output_type": "stream",
     "text": [
      "2.5\n",
      "2\n",
      "2\n",
      "10000\n"
     ]
    }
   ],
   "source": [
    "a=10\n",
    "b=4\n",
    "print(a/b)\n",
    "print(a%b)\n",
    "print(a//b)\n",
    "print(a**b)\n"
   ]
  },
  {
   "cell_type": "raw",
   "id": "6a4ca8db-f1a5-4c93-ac03-7d6d047dbf49",
   "metadata": {},
   "source": [
    "Q4. Create a list of length 10 of your choice containing multiple types of data. Using for loop print the\n",
    "element and its data type."
   ]
  },
  {
   "cell_type": "code",
   "execution_count": null,
   "id": "c42a4443-a3b1-4466-94ec-285fe5a263e9",
   "metadata": {},
   "outputs": [
    {
     "name": "stdout",
     "output_type": "stream",
     "text": [
      "2 \t <class 'int'>\n",
      "4 \t <class 'int'>\n",
      "6 \t <class 'int'>\n",
      "hello \t <class 'str'>\n",
      "world \t <class 'str'>\n",
      "6.9 \t <class 'float'>\n",
      "4.5 \t <class 'float'>\n",
      "True \t <class 'bool'>\n",
      "False \t <class 'bool'>\n",
      "9 \t <class 'int'>\n"
     ]
    }
   ],
   "source": [
    "lis = [2,4,6,\"hello\",'world',6.9,4.5,True,False,9]\n",
    "for i in lis:\n",
    "    print(i,\"\\t\",type(i))"
   ]
  },
  {
   "cell_type": "raw",
   "id": "c7a2d9e7-06f8-44da-828f-a38669eb3ca5",
   "metadata": {},
   "source": [
    "Q5. Using a while loop, verify if the number A is purely divisible by number B and if so then how many\n",
    "times it can be divisible."
   ]
  },
  {
   "cell_type": "code",
   "execution_count": 5,
   "id": "4a5c1a58-3e81-4656-b13c-d96d0f9cd615",
   "metadata": {},
   "outputs": [
    {
     "name": "stdout",
     "output_type": "stream",
     "text": [
      "A is be divisible by B  2  times\n"
     ]
    }
   ],
   "source": [
    "A = 100\n",
    "B = 5\n",
    "i=0\n",
    "while A%B==0:\n",
    "    i+=1\n",
    "    A=A/B\n",
    "print(\"A is be divisible by B \",i,\" times\")"
   ]
  },
  {
   "cell_type": "markdown",
   "id": "9fc44bec-8c55-48bb-9f02-a5fa8fc0f8de",
   "metadata": {},
   "source": [
    "# OR"
   ]
  },
  {
   "cell_type": "code",
   "execution_count": 4,
   "id": "3ed97587-bdb7-46a1-883b-6d5431d59504",
   "metadata": {},
   "outputs": [
    {
     "name": "stdout",
     "output_type": "stream",
     "text": [
      "A is divisible by B  20.0  times\n"
     ]
    }
   ],
   "source": [
    "A = 100\n",
    "B = 5\n",
    "while A%B==0:\n",
    "    print(\"A is divisible by B \",A/B,\" times\")\n",
    "    break\n"
   ]
  },
  {
   "cell_type": "raw",
   "id": "9e75a95b-3440-43ce-95e9-0f4f098420d0",
   "metadata": {},
   "source": [
    "Q6. Create a list containing 25 int type data. Using for loop and if-else condition print if the element is\n",
    "divisible by 3 or not."
   ]
  },
  {
   "cell_type": "code",
   "execution_count": 6,
   "id": "9ef0aa83-dac0-4df7-a201-534a3b1230fc",
   "metadata": {},
   "outputs": [
    {
     "name": "stdout",
     "output_type": "stream",
     "text": [
      "1 is not divisible by 3\n",
      "2 is not divisible by 3\n",
      "3 is divisible by 3\n",
      "4 is not divisible by 3\n",
      "5 is not divisible by 3\n",
      "6 is divisible by 3\n",
      "7 is not divisible by 3\n",
      "8 is not divisible by 3\n",
      "9 is divisible by 3\n",
      "10 is not divisible by 3\n",
      "11 is not divisible by 3\n",
      "12 is divisible by 3\n",
      "13 is not divisible by 3\n",
      "14 is not divisible by 3\n",
      "15 is divisible by 3\n",
      "16 is not divisible by 3\n",
      "17 is not divisible by 3\n",
      "18 is divisible by 3\n",
      "19 is not divisible by 3\n",
      "20 is not divisible by 3\n",
      "21 is divisible by 3\n",
      "22 is not divisible by 3\n",
      "23 is not divisible by 3\n",
      "24 is divisible by 3\n",
      "25 is not divisible by 3\n"
     ]
    }
   ],
   "source": [
    "lis = [1,2,3,4,5,6,7,8,9,10,11,12,13,14,15,16,17,18,19,20,21,22,23,24,25]\n",
    "for i in lis:\n",
    "    if i%3==0:\n",
    "        print(i,\"is divisible by 3\")\n",
    "    else:\n",
    "        print(i,\"is not divisible by 3\")"
   ]
  },
  {
   "cell_type": "raw",
   "id": "0f94a55f-d4d2-48b4-91f5-96e238aaf99d",
   "metadata": {},
   "source": [
    "Q7. What do you understand about mutable and immutable data types? Give examples for both showing\n",
    "this property."
   ]
  },
  {
   "cell_type": "code",
   "execution_count": 7,
   "id": "4b8c3863-3c70-4091-ae4a-943d2b80fe21",
   "metadata": {},
   "outputs": [],
   "source": [
    "#Mutable Data Types : The data types that can be altered or modified after being created are mutable data types. \n",
    "#for eg. Lists, Dictionaries\n",
    "#Immutable Data Types : The data types that cannot be altered or modified after being created are immutable data types. \n",
    "#for eg. string, tuple"
   ]
  },
  {
   "cell_type": "markdown",
   "id": "146c87bd-fdca-4b2a-b31a-2ef117317cf0",
   "metadata": {
    "tags": []
   },
   "source": [
    "### Mutable Data Types"
   ]
  },
  {
   "cell_type": "code",
   "execution_count": 8,
   "id": "a2014880-4812-4e55-bf09-1a4f33f2f32b",
   "metadata": {},
   "outputs": [
    {
     "data": {
      "text/plain": [
       "[2, 3, 'helloo']"
      ]
     },
     "execution_count": 8,
     "metadata": {},
     "output_type": "execute_result"
    }
   ],
   "source": [
    "# list\n",
    "lis = [2,3,\"helloo\"]\n",
    "lis"
   ]
  },
  {
   "cell_type": "code",
   "execution_count": 9,
   "id": "0d2172a5-840e-4a28-b83e-5192cdf7fb3a",
   "metadata": {},
   "outputs": [
    {
     "data": {
      "text/plain": [
       "[2, 'changed', 'helloo']"
      ]
     },
     "execution_count": 9,
     "metadata": {},
     "output_type": "execute_result"
    }
   ],
   "source": [
    "lis[1] = \"changed\"\n",
    "lis"
   ]
  },
  {
   "cell_type": "code",
   "execution_count": 10,
   "id": "3ec4b9e4-de31-4022-930c-42dbd02bf515",
   "metadata": {},
   "outputs": [
    {
     "data": {
      "text/plain": [
       "{'a': 5, 'b': 'ten', 'c': 15}"
      ]
     },
     "execution_count": 10,
     "metadata": {},
     "output_type": "execute_result"
    }
   ],
   "source": [
    "#dictionary\n",
    "dic = {'a':5,'b':'ten','c':15}\n",
    "dic"
   ]
  },
  {
   "cell_type": "code",
   "execution_count": 11,
   "id": "e7cade5a-9a53-4df1-bab0-ad26a6d16ff8",
   "metadata": {},
   "outputs": [
    {
     "data": {
      "text/plain": [
       "{'a': 5, 'b': 'time three', 'c': 15}"
      ]
     },
     "execution_count": 11,
     "metadata": {},
     "output_type": "execute_result"
    }
   ],
   "source": [
    "dic['b'] = \"time three\"\n",
    "dic"
   ]
  },
  {
   "cell_type": "markdown",
   "id": "635a611e-1460-4635-b4f1-38bcd7bfe5de",
   "metadata": {
    "tags": []
   },
   "source": [
    "### Immutable Data Types"
   ]
  },
  {
   "cell_type": "code",
   "execution_count": 12,
   "id": "e32b6379-ed08-48c1-840d-ec6e2873b634",
   "metadata": {},
   "outputs": [
    {
     "data": {
      "text/plain": [
       "'this is sample'"
      ]
     },
     "execution_count": 12,
     "metadata": {},
     "output_type": "execute_result"
    }
   ],
   "source": [
    "#String\n",
    "a = \"this is sample\"\n",
    "a"
   ]
  },
  {
   "cell_type": "code",
   "execution_count": 13,
   "id": "97dc3bad-0d0f-4d9b-9511-7ad175a33e72",
   "metadata": {},
   "outputs": [
    {
     "ename": "TypeError",
     "evalue": "'str' object does not support item assignment",
     "output_type": "error",
     "traceback": [
      "\u001b[0;31m---------------------------------------------------------------------------\u001b[0m",
      "\u001b[0;31mTypeError\u001b[0m                                 Traceback (most recent call last)",
      "Cell \u001b[0;32mIn[13], line 1\u001b[0m\n\u001b[0;32m----> 1\u001b[0m \u001b[43ma\u001b[49m\u001b[43m[\u001b[49m\u001b[38;5;241;43m3\u001b[39;49m\u001b[43m]\u001b[49m \u001b[38;5;241m=\u001b[39m \u001b[38;5;124m'\u001b[39m\u001b[38;5;124ma\u001b[39m\u001b[38;5;124m'\u001b[39m\n\u001b[1;32m      2\u001b[0m a\n",
      "\u001b[0;31mTypeError\u001b[0m: 'str' object does not support item assignment"
     ]
    }
   ],
   "source": [
    "a[3] = 'a'\n",
    "a"
   ]
  },
  {
   "cell_type": "code",
   "execution_count": null,
   "id": "41ce16f1-d1cb-4d7a-8c70-bb3e117e6095",
   "metadata": {},
   "outputs": [],
   "source": [
    "#tuple\n",
    "a = (2,3,6,8)\n",
    "a"
   ]
  },
  {
   "cell_type": "code",
   "execution_count": 14,
   "id": "258ac561-c609-4bfd-854d-c12c3c63f2d9",
   "metadata": {},
   "outputs": [
    {
     "ename": "TypeError",
     "evalue": "'str' object does not support item assignment",
     "output_type": "error",
     "traceback": [
      "\u001b[0;31m---------------------------------------------------------------------------\u001b[0m",
      "\u001b[0;31mTypeError\u001b[0m                                 Traceback (most recent call last)",
      "Cell \u001b[0;32mIn[14], line 1\u001b[0m\n\u001b[0;32m----> 1\u001b[0m \u001b[43ma\u001b[49m\u001b[43m[\u001b[49m\u001b[38;5;241;43m2\u001b[39;49m\u001b[43m]\u001b[49m \u001b[38;5;241m=\u001b[39m \u001b[38;5;241m22\u001b[39m\n\u001b[1;32m      2\u001b[0m a\n",
      "\u001b[0;31mTypeError\u001b[0m: 'str' object does not support item assignment"
     ]
    }
   ],
   "source": [
    "a[2] = 22\n",
    "a"
   ]
  },
  {
   "cell_type": "code",
   "execution_count": null,
   "id": "b72c8292-ad97-4896-955f-211d40f2d8e5",
   "metadata": {},
   "outputs": [],
   "source": []
  }
 ],
 "metadata": {
  "kernelspec": {
   "display_name": "Python 3 (ipykernel)",
   "language": "python",
   "name": "python3"
  },
  "language_info": {
   "codemirror_mode": {
    "name": "ipython",
    "version": 3
   },
   "file_extension": ".py",
   "mimetype": "text/x-python",
   "name": "python",
   "nbconvert_exporter": "python",
   "pygments_lexer": "ipython3",
   "version": "3.10.8"
  }
 },
 "nbformat": 4,
 "nbformat_minor": 5
}
