{
 "cells": [
  {
   "cell_type": "markdown",
   "id": "fc40409a-24a5-4954-8c43-090a0b8cae51",
   "metadata": {},
   "source": [
    "# Week 2 Python Assignment"
   ]
  },
  {
   "cell_type": "raw",
   "id": "a8ce3813-bdfb-405a-97f8-a1a1a32cd40f",
   "metadata": {},
   "source": [
    "Q1. How do you comment code in Python? What are the different types of comments?"
   ]
  },
  {
   "cell_type": "code",
   "execution_count": null,
   "id": "ff9e6af2-c84f-4fd4-bfa3-84681ff4ae62",
   "metadata": {},
   "outputs": [],
   "source": [
    "# To Comment code in Python we use symbol hash - \"#\" , \"##\" or we can use triple quotes(double or single).  \n",
    "'''Different types of comment are:\n",
    "    1) Single line comment : These comment are made using symbol hashtag : \"#\". It comments only 1 line of code.\n",
    "    2) Multi line comment : These comment are made using triple single quotes or triple double quotes. \"\"\"comment is made here\"\"\"\n",
    "                            It is used to comment multiple lines of code'''"
   ]
  },
  {
   "cell_type": "raw",
   "id": "94e1fbb0-bf22-47a1-862d-33adf1539209",
   "metadata": {},
   "source": [
    "Q2. What are variables in Python? How do you declare and assign values to variables?"
   ]
  },
  {
   "cell_type": "code",
   "execution_count": null,
   "id": "3df34d91-d972-4635-8650-3892fd8ae686",
   "metadata": {},
   "outputs": [],
   "source": [
    "''' Variables are name of containers for storing data value. A variable can be considered as name.\n",
    "We declare variable by assigning any name. A variable can start with alphabets or underscore but not with numbers or any other special symbols.\n",
    "The value is assigned to variable by using assignment operator.\n"
   ]
  },
  {
   "cell_type": "raw",
   "id": "4287f064-94fa-4107-ac94-08c0191f5d5e",
   "metadata": {},
   "source": [
    "Q3. How do you convert one data type to another in Python?"
   ]
  },
  {
   "cell_type": "code",
   "execution_count": 6,
   "id": "cb214d6a-14ec-4fda-b040-79d91bc85154",
   "metadata": {},
   "outputs": [
    {
     "name": "stdout",
     "output_type": "stream",
     "text": [
      "<class 'int'>\n",
      "<class 'str'>\n"
     ]
    }
   ],
   "source": [
    "'''To convert one data type to another we use typecasting method provided in python. The example of typecasting is given below : '''\n",
    "a=5\n",
    "print(type(a))\n",
    "a = str(a)\n",
    "print(type(a))"
   ]
  },
  {
   "cell_type": "raw",
   "id": "c7472f31-10d9-4526-9723-af163926fcfc",
   "metadata": {},
   "source": [
    "Q4. How do you write and execute a Python script from the command line?"
   ]
  },
  {
   "cell_type": "code",
   "execution_count": null,
   "id": "d4a14289-2719-464c-b4d7-8b2bd40c3d9e",
   "metadata": {},
   "outputs": [],
   "source": [
    "''' We can write code in any IDE or code editor and save file as .py file.\n",
    "    After saving file open command line and write :- \"python filename.py\" and press enter. It will execute python script'''\n",
    "\n",
    "''' Another different approach to write a python code in Command line we follow following steps:\n",
    "    1) Type cmd in search bar and open command line.\n",
    "    2) Type python in command line and press enter.\n",
    "    3) After this we can write python code lines in cmd and execute them in the command line'''\n",
    "    \n",
    "    "
   ]
  },
  {
   "cell_type": "raw",
   "id": "bcbe6da7-70fe-4b52-a8f8-744f74edecfb",
   "metadata": {},
   "source": [
    "Q5. Given a list my_list = [1, 2, 3, 4, 5], write the code to slice the list and obtain the sub-list [2, 3]."
   ]
  },
  {
   "cell_type": "code",
   "execution_count": 7,
   "id": "db5b46a4-9f23-4590-9cb8-cb80d8d7da8a",
   "metadata": {},
   "outputs": [
    {
     "data": {
      "text/plain": [
       "[2, 3]"
      ]
     },
     "execution_count": 7,
     "metadata": {},
     "output_type": "execute_result"
    }
   ],
   "source": [
    "my_list = [1,2,3,4,5]\n",
    "sub_list = my_list[1:3]\n",
    "sub_list"
   ]
  },
  {
   "cell_type": "markdown",
   "id": "8255db5f-d98d-483b-bfa2-bff421816aac",
   "metadata": {},
   "source": [
    "Q6. What is a complex number in mathematics, and how is it represented in Python?"
   ]
  },
  {
   "cell_type": "code",
   "execution_count": 13,
   "id": "4c63ec42-4629-44b9-a287-6f94fb82efaa",
   "metadata": {},
   "outputs": [
    {
     "name": "stdout",
     "output_type": "stream",
     "text": [
      "<class 'complex'>\n",
      "real :  5.0 \n",
      "imaginary part :  7.0\n"
     ]
    }
   ],
   "source": [
    "'''Complex number in mathematics are the numbers which contain both the real part and the imaginary part.\n",
    "In python these complex numbers are represented as \" a+bj \", where \"a\" is real part and \"b\" is imaginary part which is seen by presence of \"j\" with it. Example is given below : '''\n",
    "a = 5+7j\n",
    "print(type(a))\n",
    "print(\"real : \",a.real,\"\\nimaginary part : \",a.imag)"
   ]
  },
  {
   "cell_type": "raw",
   "id": "3c20d638-b966-467c-9eac-9530957bd7c4",
   "metadata": {},
   "source": [
    "Q7. What is the correct way to declare a variable named age and assign the value 25 to it?"
   ]
  },
  {
   "cell_type": "code",
   "execution_count": 14,
   "id": "c72a1c9c-3747-4b2f-96a3-15a31ff3fffd",
   "metadata": {},
   "outputs": [],
   "source": [
    "'''Correct way to declare a variable name and assign value is : '''\n",
    "age = 25"
   ]
  },
  {
   "cell_type": "raw",
   "id": "5bd5699e-fd6e-49c7-8c00-ea388021e8e1",
   "metadata": {},
   "source": [
    "Q8. Declare a variable named price and assign the value 9.99 to it. What data type does this variable\n",
    "belong to?"
   ]
  },
  {
   "cell_type": "code",
   "execution_count": 15,
   "id": "91e5ae91-8c40-4cbe-affc-7a22f59744d4",
   "metadata": {},
   "outputs": [
    {
     "name": "stdout",
     "output_type": "stream",
     "text": [
      "<class 'float'>\n"
     ]
    }
   ],
   "source": [
    "price = 9.99\n",
    "\n",
    "# This variable belongs to float data type\n",
    "\n",
    "print(type(price))"
   ]
  },
  {
   "cell_type": "raw",
   "id": "5091a33b-cda9-4c23-a094-c5bf6b2ad088",
   "metadata": {},
   "source": [
    "Q9. Create a variable named name and assign your full name to it as a string. How would you print the\n",
    "value of this variable?"
   ]
  },
  {
   "cell_type": "code",
   "execution_count": 16,
   "id": "1f273411-2081-4f1f-8f0a-33cac8b0cf6f",
   "metadata": {},
   "outputs": [
    {
     "name": "stdout",
     "output_type": "stream",
     "text": [
      "Maninder Singh\n"
     ]
    }
   ],
   "source": [
    "name = \"Maninder Singh\"\n",
    "print(name)"
   ]
  },
  {
   "cell_type": "raw",
   "id": "473ac1a0-ff77-43c6-a7d7-4545102003f4",
   "metadata": {},
   "source": [
    "Q10. Given the string \"Hello, World!\", extract the substring \"World\"."
   ]
  },
  {
   "cell_type": "code",
   "execution_count": 17,
   "id": "b2ff9097-643c-4367-bf78-01acc1e5b5cb",
   "metadata": {},
   "outputs": [
    {
     "data": {
      "text/plain": [
       "'World'"
      ]
     },
     "execution_count": 17,
     "metadata": {},
     "output_type": "execute_result"
    }
   ],
   "source": [
    "s = \"Hello, World!\"\n",
    "sub = s[7:-1]\n",
    "sub"
   ]
  },
  {
   "cell_type": "raw",
   "id": "24ddd22f-a872-4e12-bfba-c906c2b40fe3",
   "metadata": {},
   "source": [
    "Q11. Create a variable named \"is_student\" and assign it a boolean value indicating whether you are\n",
    "currently a student or not."
   ]
  },
  {
   "cell_type": "code",
   "execution_count": null,
   "id": "511d7aea-9fbe-46c0-84b8-bd92f9d37957",
   "metadata": {},
   "outputs": [],
   "source": [
    "is_student = True"
   ]
  }
 ],
 "metadata": {
  "kernelspec": {
   "display_name": "Python 3 (ipykernel)",
   "language": "python",
   "name": "python3"
  },
  "language_info": {
   "codemirror_mode": {
    "name": "ipython",
    "version": 3
   },
   "file_extension": ".py",
   "mimetype": "text/x-python",
   "name": "python",
   "nbconvert_exporter": "python",
   "pygments_lexer": "ipython3",
   "version": "3.10.8"
  }
 },
 "nbformat": 4,
 "nbformat_minor": 5
}
