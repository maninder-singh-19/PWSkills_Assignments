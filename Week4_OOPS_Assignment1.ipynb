{
 "cells": [
  {
   "cell_type": "markdown",
   "id": "a1169f7a-12e6-4430-94d1-f446732558bc",
   "metadata": {},
   "source": [
    "# Week 4 OOPS Assignment 1"
   ]
  },
  {
   "cell_type": "raw",
   "id": "efa102b7-cf04-452b-a397-73ce81053eaf",
   "metadata": {},
   "source": [
    "Q1. Explain Class and Object with respect to Object-Oriented Programming. Give a suitable example."
   ]
  },
  {
   "cell_type": "raw",
   "id": "e02b2021-3ee2-429f-a1fa-be11ef7b73a7",
   "metadata": {},
   "source": [
    "A Class is a blueprint for creating objects. It can be considered as prototype of the objects. It contains all the data and informatin about the behaviour of object.\n",
    "An object is instance of a class. It can be considered real world entity.\n",
    "\n",
    "for example :- let we car be a class. It lays blueprint for different cars. There can be different objects to this class like audi, mustang, etc"
   ]
  },
  {
   "cell_type": "code",
   "execution_count": 3,
   "id": "ed04fa3e-dc74-4351-a649-88d127b36f41",
   "metadata": {},
   "outputs": [
    {
     "name": "stdout",
     "output_type": "stream",
     "text": [
      "Brand :  Audi\n",
      "Seat Capcity :  4\n",
      "Average :  20\n",
      "\n",
      "Brand :  Mustang\n",
      "Seat Capcity :  2\n",
      "Average :  10\n"
     ]
    }
   ],
   "source": [
    "class car:\n",
    "    def __init__(self,brand,seat_capacity,average):\n",
    "        self.brand = brand\n",
    "        self.seat_capacity =  seat_capacity\n",
    "        self.average = average\n",
    "        \n",
    "    def show_details(self):\n",
    "        print(\"Brand : \", self.brand)\n",
    "        print(\"Seat Capcity : \", self.seat_capacity)\n",
    "        print(\"Average : \", self.average)\n",
    "\n",
    "audi = car(\"Audi\",4,20)\n",
    "mustang = car(\"Mustang\",2,10)\n",
    "audi.show_details()\n",
    "print()\n",
    "mustang.show_details()"
   ]
  },
  {
   "cell_type": "raw",
   "id": "82a0e038-fae7-4ad7-8bb4-a08d6271d205",
   "metadata": {},
   "source": [
    "Q2. Name the four pillars of OOPs."
   ]
  },
  {
   "cell_type": "raw",
   "id": "ab659f93-481b-4028-b14b-7dd2a91f90e2",
   "metadata": {},
   "source": [
    "The four pillars of OOPs are :\n",
    "1) Abstraction : It is hiding unnecessary details and showing only relevant information to user\n",
    "\n",
    "2) Encapsulation : It is binding data and methods into one unit for easy managing of data. It is used for implementing Abstraction\n",
    "\n",
    "3)Polymorphism : Polymorphism is ability of object or method to take multiple forms. This makes code more flexible and can handle objects of different types\n",
    "\n",
    "4) Inheritance : Inheritance is ability in which a class can acquire the methods and properties of other classes. The class that inherit property from other class is called child class. The class from which properties are acquired is called parent class"
   ]
  },
  {
   "cell_type": "raw",
   "id": "a1609b59-fcaf-4c81-83ce-ad090bc1496a",
   "metadata": {},
   "source": [
    "Q3. Explain why the __init__() function is used. Give a suitable example."
   ]
  },
  {
   "cell_type": "raw",
   "id": "0687a408-dbb7-4c39-988a-59efce89839d",
   "metadata": {},
   "source": [
    "__init__() function is a constructor of class. It is used to initialise differet attributes or variable of any object when it is created. Whenever an object of class is created __init__() function is called first and it initialises the values of different attributes.\n",
    "It is magic function or dunder function. __init__() function is called internally."
   ]
  },
  {
   "cell_type": "code",
   "execution_count": 5,
   "id": "cdbe6c39-05f2-409b-975e-9100237a26e7",
   "metadata": {},
   "outputs": [
    {
     "name": "stdout",
     "output_type": "stream",
     "text": [
      "maninder singh\n",
      "27\n"
     ]
    }
   ],
   "source": [
    "class test:\n",
    "    def __init__(self,name,roll):\n",
    "        self.name = name\n",
    "        self.roll = roll\n",
    "        \n",
    "        print(self.name)\n",
    "        print(self.roll)\n",
    "\n",
    "t = test(\"maninder singh\",27)"
   ]
  },
  {
   "cell_type": "raw",
   "id": "720e5c9b-ad65-45aa-abd9-60f9e713a87a",
   "metadata": {},
   "source": [
    "Q4. Why self is used in OOPs?"
   ]
  },
  {
   "cell_type": "raw",
   "id": "3d7ffa9f-fcfa-439d-9a34-b9eb2f41e439",
   "metadata": {},
   "source": [
    "self is used to refer to the current instance of class. It acts as pointer to the class. It is used to bind function to class"
   ]
  },
  {
   "cell_type": "raw",
   "id": "fb197052-e385-4e90-a81b-4e392369f7d4",
   "metadata": {},
   "source": [
    "Q5. What is inheritance? Give an example for each type of inheritance."
   ]
  },
  {
   "cell_type": "raw",
   "id": "454eba64-5a5f-46d2-9d09-85bab4c3b120",
   "metadata": {},
   "source": [
    "Inheritance is a ability in which a class can inherit properties of another class. The class that inherits property is called child class and the class whose properties are being inherited is called parent class\n"
   ]
  },
  {
   "cell_type": "markdown",
   "id": "29760a88-c7a3-4d75-9084-7a0e5d407025",
   "metadata": {},
   "source": [
    "# Types of Inheritance"
   ]
  },
  {
   "cell_type": "markdown",
   "id": "361fc3e5-3266-41e4-bcfa-35c4dc44d28d",
   "metadata": {},
   "source": [
    "### Single Inheritance"
   ]
  },
  {
   "cell_type": "code",
   "execution_count": 9,
   "id": "74c5c1cd-b13d-4741-b816-9d85f3288994",
   "metadata": {},
   "outputs": [
    {
     "name": "stdout",
     "output_type": "stream",
     "text": [
      "This is parent1 class\n"
     ]
    }
   ],
   "source": [
    "# Single class inherits prtoperties of single another class\n",
    "\n",
    "class parent1:\n",
    "    def parent1_info(self):\n",
    "        print(\"This is parent1 class\")\n",
    "\n",
    "class child1(parent1):\n",
    "    def child1_info(self):\n",
    "        print(\"This is child1 class\")\n",
    "        \n",
    "ch = child1()\n",
    "ch.parent1_info()"
   ]
  },
  {
   "cell_type": "markdown",
   "id": "a9877bb7-f487-4dc1-a55f-587d88ae60de",
   "metadata": {},
   "source": [
    "### Multiple Inheritance"
   ]
  },
  {
   "cell_type": "code",
   "execution_count": 10,
   "id": "54b638d6-4470-47fd-8163-e34022cf2aa5",
   "metadata": {},
   "outputs": [
    {
     "name": "stdout",
     "output_type": "stream",
     "text": [
      "This is parent1 class\n",
      "This is parent2 class\n"
     ]
    }
   ],
   "source": [
    "# Multiple classes are inherited into one class\n",
    "\n",
    "class parent2:\n",
    "    def parent2_info(self):\n",
    "        print(\"This is parent2 class\")\n",
    "        \n",
    "class child2(parent1,parent2):\n",
    "    def child2_info(self):\n",
    "        print(\"This is child2 class\")\n",
    "\n",
    "c2 = child2()\n",
    "c2.parent1_info()\n",
    "c2.parent2_info()"
   ]
  },
  {
   "cell_type": "markdown",
   "id": "862e4a38-67b8-4f6e-b8c7-c6d3e022b6a4",
   "metadata": {},
   "source": [
    "### Multilevel Inheritance"
   ]
  },
  {
   "cell_type": "code",
   "execution_count": 11,
   "id": "07ca607f-0f1a-4a11-a61b-c2e1b8c76255",
   "metadata": {},
   "outputs": [
    {
     "name": "stdout",
     "output_type": "stream",
     "text": [
      "This is child1 class\n",
      "This is parent1 class\n"
     ]
    }
   ],
   "source": [
    "# In Multilevel Inheritance derived class or child class inherits from another derived class.\n",
    "\n",
    "class child3(child1):\n",
    "    def child3_info(self):\n",
    "        print(\"This is child3 class\")\n",
    "        \n",
    "c3 = child3()\n",
    "c3.child1_info()\n",
    "c3.parent1_info()"
   ]
  },
  {
   "cell_type": "markdown",
   "id": "16cd3972-e3b3-434c-83b3-fbd1dffc70f0",
   "metadata": {},
   "source": [
    "### Heirachical Inheritance"
   ]
  },
  {
   "cell_type": "code",
   "execution_count": 15,
   "id": "b9a75260-80b1-40a2-9191-9a52ca24a81a",
   "metadata": {},
   "outputs": [
    {
     "name": "stdout",
     "output_type": "stream",
     "text": [
      "This is child4 class\n",
      "This is child3 class\n",
      "This is child2 class\n",
      "This is parent1 class\n"
     ]
    }
   ],
   "source": [
    "# In Heirarchical Inheritance derived class is inherited from various derived class\n",
    "\n",
    "class child4(child2,child3):\n",
    "    def child4_info(self):\n",
    "        print(\"This is child4 class\")\n",
    "    \n",
    "c4 = child4()\n",
    "c4.child4_info()\n",
    "c4.child3_info()\n",
    "c4.child2_info()\n",
    "c4.parent1_info()"
   ]
  },
  {
   "cell_type": "code",
   "execution_count": null,
   "id": "79903a9b-440a-49b9-b3a0-54f7e5f98c44",
   "metadata": {},
   "outputs": [],
   "source": []
  }
 ],
 "metadata": {
  "kernelspec": {
   "display_name": "Python 3 (ipykernel)",
   "language": "python",
   "name": "python3"
  },
  "language_info": {
   "codemirror_mode": {
    "name": "ipython",
    "version": 3
   },
   "file_extension": ".py",
   "mimetype": "text/x-python",
   "name": "python",
   "nbconvert_exporter": "python",
   "pygments_lexer": "ipython3",
   "version": "3.10.8"
  }
 },
 "nbformat": 4,
 "nbformat_minor": 5
}
