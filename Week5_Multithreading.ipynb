{
 "cells": [
  {
   "cell_type": "markdown",
   "id": "23acd608-9d36-4168-a7af-a1d2afc669fa",
   "metadata": {},
   "source": [
    "# Week 5 Multithreading Assignment"
   ]
  },
  {
   "cell_type": "markdown",
   "id": "caac1b6a-9219-4fbf-9c25-969f53deac0f",
   "metadata": {},
   "source": [
    "## Q1). What is multithreading in python? Why is it used? Name the module used to handle threads in python"
   ]
  },
  {
   "cell_type": "markdown",
   "id": "3c63dc95-10c8-4f29-80b6-8c110cb9b943",
   "metadata": {},
   "source": [
    "Multithreading is the ability to run multiple tasks or programs at same time. It is done by creating multiple threads that run their own code. \n",
    "Multithreading is used to run multiple tasks simultaneously.It is achieved by breaking the big program into smaller block of codes or programs that can be run independently on their own.\n",
    "\n",
    "The module used to handle threads in python is threading module. threading module provides the classes and methods for creating and managing the threads."
   ]
  },
  {
   "cell_type": "markdown",
   "id": "8688b017-7247-4ddd-a699-f5b9ba739402",
   "metadata": {},
   "source": [
    "## Q2. Why threading module used? Write the use of the following functions:\n",
    "\n",
    "### activeCount\n",
    "### currentThread\n",
    "### enumerate"
   ]
  },
  {
   "cell_type": "markdown",
   "id": "16eddf47-7ef1-4cfb-8961-f8794a3cc900",
   "metadata": {},
   "source": [
    "### threading module is used to create and handle threads. It is used to achieve multithreading in python."
   ]
  },
  {
   "cell_type": "markdown",
   "id": "108a675a-6c9b-4b8c-893c-f4b52e09e80c",
   "metadata": {},
   "source": [
    "### activeCount\n",
    "\n",
    "This function is listed in threading module. It returns the number of active threads in current process"
   ]
  },
  {
   "cell_type": "markdown",
   "id": "4969df0c-7c2a-43cd-9198-77c8264789e1",
   "metadata": {},
   "source": [
    "### currentThread\n",
    "This function returns the current thread"
   ]
  },
  {
   "cell_type": "markdown",
   "id": "a50eea44-b2f6-402e-a859-580646bf96b3",
   "metadata": {},
   "source": [
    "### enumerate\n",
    "This function returns the iterator that enumerate all the active threads that are in current process"
   ]
  },
  {
   "cell_type": "markdown",
   "id": "3f3ae291-b876-418b-a200-a5baa1a2ba76",
   "metadata": {},
   "source": [
    "## Q3. Explain the following functions\n",
    "### run()\n",
    "### start()\n",
    "### join()\n",
    "### isAlive()"
   ]
  },
  {
   "cell_type": "markdown",
   "id": "49821036-5139-41e1-ae28-a65f330761fc",
   "metadata": {},
   "source": [
    "### run()\n",
    "This function is the entry point of a thread. It is called by start() function."
   ]
  },
  {
   "cell_type": "markdown",
   "id": "f038c673-3929-48bc-b3aa-6ec53916a89e",
   "metadata": {},
   "source": [
    "### start()\n",
    "This function is used to initiate a thread. It calls the run() function and then returns."
   ]
  },
  {
   "cell_type": "markdown",
   "id": "a131b1ed-45bf-40d2-ba73-74e232e3f209",
   "metadata": {},
   "source": [
    "### join()\n",
    "join() function waits for the thread to finish its execution."
   ]
  },
  {
   "cell_type": "markdown",
   "id": "0856a2ae-e69a-433f-9f3b-95253f7391f2",
   "metadata": {},
   "source": [
    "### isAlive()\n",
    "isAlive() functin returns the boolean value indicating if the target thread is alive or not. A thread is alive if execution is not finished"
   ]
  },
  {
   "cell_type": "markdown",
   "id": "0b6788fa-6bec-4369-a730-466d0936db4f",
   "metadata": {},
   "source": [
    "## 4. Write a python program to create two threads. Thread one must print the list of squares and thread two must print the list of cubes"
   ]
  },
  {
   "cell_type": "code",
   "execution_count": 6,
   "id": "e7444c10-05f7-46ab-a76f-5d45950cc19f",
   "metadata": {},
   "outputs": [
    {
     "name": "stdout",
     "output_type": "stream",
     "text": [
      "squared list :  [4, 9, 16, 25, 36]\n",
      "cube list :  [8, 27, 64, 125, 216]\n"
     ]
    }
   ],
   "source": [
    "import threading\n",
    "\n",
    "def sqr(sq_l):    \n",
    "    sq_l = [i**2 for i in sq_l]\n",
    "    print(\"squared list : \",sq_l)\n",
    "    \n",
    "def cube(c_l):\n",
    "    c_l = [i**3 for i in c_l]\n",
    "    print(\"cube list : \",c_l)\n",
    "        \n",
    "lis = [2,3,4,5,6]\n",
    "t1 = threading.Thread(target = sqr, args = (lis,))\n",
    "t2 = threading.Thread(target = cube, args = (lis,))\n",
    "t1.start()\n",
    "t2.start()\n",
    "t1.join()\n",
    "t2.join()\n",
    "\n"
   ]
  },
  {
   "cell_type": "markdown",
   "id": "9bb9bbff-c82b-4bea-b85e-6e731fec5139",
   "metadata": {},
   "source": [
    "## Q5. State advantages and disadvantages of multithreading"
   ]
  },
  {
   "cell_type": "markdown",
   "id": "6de7f7d6-2f71-478b-b51b-20f23950fb7e",
   "metadata": {},
   "source": [
    "### Advanatages\n",
    "1. Improves performance of an application by allowing multiple tasks to be able to run at same time\n",
    "2. Improves responsiveness of application by allowing it to respond to user input while other tasks are being run in background\n",
    "3. Improves scalability of application by allowing it to handle multiple requests from increased users."
   ]
  },
  {
   "cell_type": "markdown",
   "id": "3a4c6717-7c3a-4cb3-bc6f-90eaacc20aea",
   "metadata": {},
   "source": [
    "### Disadvantages\n",
    "1. Concurrency problems such as race condition and deadlocks\n",
    "2. Resource contention which occur when multiple threads compete for same resource.\n",
    "3. Multithreading can increase complexity of application's design and implementation."
   ]
  },
  {
   "cell_type": "markdown",
   "id": "569bacae-e09c-4705-8e18-eb4270d7174b",
   "metadata": {},
   "source": [
    "## Q6. Explain deadlocks and race conditions."
   ]
  },
  {
   "cell_type": "markdown",
   "id": "90bb8863-b59a-4d54-9f9c-a682376606c8",
   "metadata": {},
   "source": [
    "Deadlock is condition that occurs when two or more processes are waiting for each other to releases resources they need to complete their execution."
   ]
  },
  {
   "cell_type": "markdown",
   "id": "ce1c09eb-b02d-4972-9f30-ebd2632a60c2",
   "metadata": {},
   "source": [
    "Race conditions occurs when two or more threads access the same resource simultaneously, the order in which they access it affects the outcome. It occurs when two or more threads try to change value of same resource at same time resulting in unpredictable result."
   ]
  },
  {
   "cell_type": "code",
   "execution_count": null,
   "id": "bd0232b5-97a9-46b9-84c4-e419c7a02fee",
   "metadata": {},
   "outputs": [],
   "source": []
  }
 ],
 "metadata": {
  "kernelspec": {
   "display_name": "Python 3 (ipykernel)",
   "language": "python",
   "name": "python3"
  },
  "language_info": {
   "codemirror_mode": {
    "name": "ipython",
    "version": 3
   },
   "file_extension": ".py",
   "mimetype": "text/x-python",
   "name": "python",
   "nbconvert_exporter": "python",
   "pygments_lexer": "ipython3",
   "version": "3.10.8"
  }
 },
 "nbformat": 4,
 "nbformat_minor": 5
}
