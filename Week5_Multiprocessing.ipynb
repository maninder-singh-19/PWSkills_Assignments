{
 "cells": [
  {
   "cell_type": "markdown",
   "id": "ac3d0149-58aa-4dd2-974c-6d0b186e6651",
   "metadata": {},
   "source": [
    "# Week 5 Multiprocessing Assignment"
   ]
  },
  {
   "cell_type": "markdown",
   "id": "bb5d21ef-8a04-4584-aa7a-0cb55e3da5f6",
   "metadata": {},
   "source": [
    "## Q1. What is multiprocessing in python? Why is it useful?"
   ]
  },
  {
   "cell_type": "markdown",
   "id": "38532014-bb10-46fa-a588-54c89a1332e1",
   "metadata": {},
   "source": [
    "Multiprocessing is ability of running multiple processes simultaneously. In multiprocessing, each process has its own memory space and they run independtly of others.\n",
    "\n",
    "Multiprocessing is very useful as it increases the performance and efficiency of application by running multiple tasks at same time.\n",
    "It also improves the scalability of the application."
   ]
  },
  {
   "cell_type": "markdown",
   "id": "17ffe03e-1f05-47eb-b532-bd3b26e09d69",
   "metadata": {},
   "source": [
    "## Q2. What are the differences between multiprocessing and multithreading?"
   ]
  },
  {
   "cell_type": "markdown",
   "id": "05cef2b0-b410-4714-a99e-7426ef760e8d",
   "metadata": {},
   "source": [
    "In Multiprocessing, multiple processes are created and executed on different CPU while in multithreading multiple threads are created and are executed on single CPU.\n",
    "In Multiprocessing, each process has its own memory space while in multithreading all processes share same memory space.\n",
    "The process creation is a time consuming while thread creation is not so time consuming.\n",
    "\n",
    "Multiprocessing is more suitable for CPU-intesive tasks while Multithreading is more efficient for I/O-intensive tasks"
   ]
  },
  {
   "cell_type": "markdown",
   "id": "7a1f050a-3118-4fa5-bb63-9b7a9b31ffaf",
   "metadata": {},
   "source": [
    "## Q3. Write a python code to create a process using the multiprocessing module."
   ]
  },
  {
   "cell_type": "code",
   "execution_count": 8,
   "id": "396b5336-c2c3-4e31-a691-2d821d83ad4c",
   "metadata": {},
   "outputs": [
    {
     "name": "stdout",
     "output_type": "stream",
     "text": [
      "[4, 9, 16, 25, 36, 49]\n"
     ]
    }
   ],
   "source": [
    "import multiprocessing\n",
    "\n",
    "def sqr(l):\n",
    "    for i in range(len(l)):\n",
    "        l[i] = l[i]**2\n",
    "    print(l)\n",
    "\n",
    "if __name__ == \"__main__\":\n",
    "    l = [2,3,4,5,6,7]\n",
    "    m1 = multiprocessing.Process(target = sqr,args=(l,))\n",
    "    m1.start()\n",
    "    m1.join()"
   ]
  },
  {
   "cell_type": "markdown",
   "id": "41cb0b0f-bb3b-41c0-ac51-198cffbb62ce",
   "metadata": {},
   "source": [
    "## Q4. What is a multiprocessing pool in python? Why is it used?"
   ]
  },
  {
   "cell_type": "markdown",
   "id": "afbc408c-1ac5-4604-8ab7-22bfaef02aee",
   "metadata": {},
   "source": [
    "Multiprocessing pool is a tool in python that allows to run large set of task inputs simultaneously. It makes it easier to use multiprocessing module.\n",
    "\n",
    "Multiprocessing pool is a powerful tool that for improving the performance and scalability of the code. We use multiprocessing pool when we want to process a large amount of data,run a CPU-intensive task, improve scalability and performance of applicaition.  When the pool is created, the number of processes can be specified, and inputs are automatically distributed to the worker processes."
   ]
  },
  {
   "cell_type": "markdown",
   "id": "ee9d99a5-c972-4d39-866d-3f5055d34d6b",
   "metadata": {},
   "source": [
    "## Q5. How can we create a pool of worker processes in python using the multiprocessing module?"
   ]
  },
  {
   "cell_type": "code",
   "execution_count": 10,
   "id": "ce63e051-4b6c-413f-8a19-c7ca1b58551a",
   "metadata": {},
   "outputs": [
    {
     "name": "stdout",
     "output_type": "stream",
     "text": [
      "[8, 27, 64, 125, 125, 216, 343, 512, 512, 729, 1728]\n"
     ]
    }
   ],
   "source": [
    "def cube(n):\n",
    "    return n**3\n",
    "\n",
    "if __name__==\"__main__\":\n",
    "    with multiprocessing.Pool(processes = 4) as pool:\n",
    "        res = pool.map(cube,[2,3,4,5,5,6,7,8,8,9,12])\n",
    "        print(res)"
   ]
  },
  {
   "cell_type": "markdown",
   "id": "733ad86b-0070-4b57-9d49-687f1939a229",
   "metadata": {},
   "source": [
    "## Q6. Write a python program to create 4 processes, each process should print a different number using the multiprocessing module in python."
   ]
  },
  {
   "cell_type": "code",
   "execution_count": 15,
   "id": "8e08368b-5c42-4bde-a191-68fc20376ac1",
   "metadata": {},
   "outputs": [
    {
     "name": "stdout",
     "output_type": "stream",
     "text": [
      "0\n",
      "1\n",
      "2\n",
      "3\n"
     ]
    }
   ],
   "source": [
    "def num(i):    \n",
    "    print(i)\n",
    "\n",
    "if __name__==\"__main__\":\n",
    "    processes = [multiprocessing.Process(target = num, args = (i,)) for i in range(4)]\n",
    "    for p in processes:\n",
    "        p.start()\n",
    "        \n",
    "    for p in prcs:\n",
    "        p.join()"
   ]
  },
  {
   "cell_type": "code",
   "execution_count": null,
   "id": "f9e34641-11b0-48e8-ae3a-b66753535ad9",
   "metadata": {},
   "outputs": [],
   "source": []
  }
 ],
 "metadata": {
  "kernelspec": {
   "display_name": "Python 3 (ipykernel)",
   "language": "python",
   "name": "python3"
  },
  "language_info": {
   "codemirror_mode": {
    "name": "ipython",
    "version": 3
   },
   "file_extension": ".py",
   "mimetype": "text/x-python",
   "name": "python",
   "nbconvert_exporter": "python",
   "pygments_lexer": "ipython3",
   "version": "3.10.8"
  }
 },
 "nbformat": 4,
 "nbformat_minor": 5
}
